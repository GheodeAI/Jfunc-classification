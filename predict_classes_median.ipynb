{
 "cells": [
  {
   "cell_type": "code",
   "execution_count": 1,
   "metadata": {},
   "outputs": [
    {
     "name": "stderr",
     "output_type": "stream",
     "text": [
      "2025-02-18 10:45:32.134733: I tensorflow/core/util/port.cc:113] oneDNN custom operations are on. You may see slightly different numerical results due to floating-point round-off errors from different computation orders. To turn them off, set the environment variable `TF_ENABLE_ONEDNN_OPTS=0`.\n",
      "2025-02-18 10:45:32.174797: E external/local_xla/xla/stream_executor/cuda/cuda_dnn.cc:9261] Unable to register cuDNN factory: Attempting to register factory for plugin cuDNN when one has already been registered\n",
      "2025-02-18 10:45:32.174832: E external/local_xla/xla/stream_executor/cuda/cuda_fft.cc:607] Unable to register cuFFT factory: Attempting to register factory for plugin cuFFT when one has already been registered\n",
      "2025-02-18 10:45:32.175811: E external/local_xla/xla/stream_executor/cuda/cuda_blas.cc:1515] Unable to register cuBLAS factory: Attempting to register factory for plugin cuBLAS when one has already been registered\n",
      "2025-02-18 10:45:32.182996: I tensorflow/core/platform/cpu_feature_guard.cc:182] This TensorFlow binary is optimized to use available CPU instructions in performance-critical operations.\n",
      "To enable the following instructions: AVX2 AVX_VNNI FMA, in other operations, rebuild TensorFlow with the appropriate compiler flags.\n",
      "2025-02-18 10:45:33.028084: W tensorflow/compiler/tf2tensorrt/utils/py_utils.cc:38] TF-TRT Warning: Could not find TensorRT\n"
     ]
    }
   ],
   "source": [
    "import numpy as np\n",
    "import xarray as xr\n",
    "import seaborn as sns\n",
    "import matplotlib.pyplot as plt\n",
    "import keras\n",
    "from sklearn.preprocessing import OneHotEncoder, MinMaxScaler, StandardScaler\n",
    "from sklearn.model_selection import train_test_split\n",
    "from sklearn.metrics import ConfusionMatrixDisplay\n",
    "from data import load_medians_clean, load_medians"
   ]
  },
  {
   "cell_type": "code",
   "execution_count": 2,
   "metadata": {},
   "outputs": [],
   "source": [
    "import os\n",
    "os.environ['CUDA_VISIBLE_DEVICES'] = '-1'"
   ]
  },
  {
   "cell_type": "code",
   "execution_count": 3,
   "metadata": {},
   "outputs": [
    {
     "data": {
      "text/plain": [
       "array([[1., 0., 0.],\n",
       "       [1., 0., 0.],\n",
       "       [1., 0., 0.],\n",
       "       ...,\n",
       "       [0., 0., 1.],\n",
       "       [0., 0., 1.],\n",
       "       [0., 0., 1.]])"
      ]
     },
     "execution_count": 3,
     "metadata": {},
     "output_type": "execute_result"
    },
    {
     "data": {
      "image/png": "[encoded data removed]",
      "text/plain": [
       "<Figure size 640x480 with 1 Axes>"
      ]
     },
     "metadata": {},
     "output_type": "display_data"
    }
   ],
   "source": [
    "X, y_base = load_medians()\n",
    "oh_enc = OneHotEncoder(sparse_output=False)\n",
    "y = oh_enc.fit_transform(y_base)\n",
    "plt.plot(y_base)\n",
    "y"
   ]
  },
  {
   "cell_type": "code",
   "execution_count": 4,
   "metadata": {},
   "outputs": [
    {
     "name": "stdout",
     "output_type": "stream",
     "text": [
      "(18512, 180, 1)\n",
      "(4628, 180, 1)\n"
     ]
    }
   ],
   "source": [
    "X_train_base, X_test_base, y_train, y_test = train_test_split(X, y, test_size=0.2, shuffle=True, random_state=0)\n",
    "print(X_train_base.shape)\n",
    "print(X_test_base.shape)\n",
    "\n",
    "abs_max = np.abs(X_train_base - 1).max()\n",
    "\n",
    "X_train = (X_train_base - 1)/abs_max\n",
    "X_test = (X_test_base - 1)/abs_max\n",
    "\n",
    "# X_scaler = StandardScaler()\n",
    "# X_train = X_scaler.fit_transform(X_train_base.reshape((-1, 1))).reshape(X_train_base.shape)\n",
    "# X_test = X_scaler.transform(X_test_base.reshape((-1, 1))).reshape(X_test_base.shape)"
   ]
  },
  {
   "cell_type": "code",
   "execution_count": 5,
   "metadata": {},
   "outputs": [
    {
     "name": "stdout",
     "output_type": "stream",
     "text": [
      "Model: \"model\"\n",
      "_________________________________________________________________\n",
      " Layer (type)                Output Shape              Param #   \n",
      "=================================================================\n",
      " input_1 (InputLayer)        [(None, 180, 1)]          0         \n",
      "                                                                 \n",
      " conv1d (Conv1D)             (None, 180, 64)           384       \n",
      "                                                                 \n",
      " max_pooling1d (MaxPooling1  (None, 90, 64)            0         \n",
      " D)                                                              \n",
      "                                                                 \n",
      " conv1d_1 (Conv1D)           (None, 90, 32)            10272     \n",
      "                                                                 \n",
      " max_pooling1d_1 (MaxPoolin  (None, 45, 32)            0         \n"
     ]
    },
    {
     "name": "stderr",
     "output_type": "stream",
     "text": [
      "2025-02-18 10:45:34.047483: E external/local_xla/xla/stream_executor/cuda/cuda_driver.cc:274] failed call to cuInit: CUDA_ERROR_NO_DEVICE: no CUDA-capable device is detected\n",
      "2025-02-18 10:45:34.047544: I external/local_xla/xla/stream_executor/cuda/cuda_diagnostics.cc:129] retrieving CUDA diagnostic information for host: simul6\n",
      "2025-02-18 10:45:34.047551: I external/local_xla/xla/stream_executor/cuda/cuda_diagnostics.cc:136] hostname: simul6\n",
      "2025-02-18 10:45:34.047823: I external/local_xla/xla/stream_executor/cuda/cuda_diagnostics.cc:159] libcuda reported version is: 525.147.5\n",
      "2025-02-18 10:45:34.047853: I external/local_xla/xla/stream_executor/cuda/cuda_diagnostics.cc:163] kernel reported version is: 525.147.5\n",
      "2025-02-18 10:45:34.047858: I external/local_xla/xla/stream_executor/cuda/cuda_diagnostics.cc:241] kernel version seems to match DSO: 525.147.5\n"
     ]
    },
    {
     "name": "stdout",
     "output_type": "stream",
     "text": [
      " g1D)                                                            \n",
      "                                                                 \n",
      " flatten (Flatten)           (None, 1440)              0         \n",
      "                                                                 \n",
      " dense (Dense)               (None, 3)                 4323      \n",
      "                                                                 \n",
      "=================================================================\n",
      "Total params: 14979 (58.51 KB)\n",
      "Trainable params: 14979 (58.51 KB)\n",
      "Non-trainable params: 0 (0.00 Byte)\n",
      "_________________________________________________________________\n"
     ]
    }
   ],
   "source": [
    "x_input = keras.Input(X.shape[1:])\n",
    "x = x_input\n",
    "x = keras.layers.Conv1D(64, 5, padding=\"same\", activation='relu')(x)\n",
    "x = keras.layers.MaxPooling1D()(x)\n",
    "x = keras.layers.Conv1D(32, 5, padding=\"same\", activation='relu')(x)\n",
    "x = keras.layers.MaxPooling1D()(x)\n",
    "x = keras.layers.Flatten()(x)\n",
    "x = keras.layers.Dense(3, activation='softmax')(x)\n",
    "model = keras.Model(x_input, x)\n",
    "\n",
    "# optimizer = keras.optimizers.Adam(1e-4)\n",
    "optimizer = keras.optimizers.RMSprop(3e-5)\n",
    "model.compile(optimizer=optimizer, loss=\"bce\")\n",
    "model.summary()"
   ]
  },
  {
   "cell_type": "code",
   "execution_count": 6,
   "metadata": {},
   "outputs": [
    {
     "name": "stdout",
     "output_type": "stream",
     "text": [
      "Epoch 1/100\n",
      "492/492 [==============================] - 4s 7ms/step - loss: 0.6718 - val_loss: 0.6305\n",
      "Epoch 2/100\n",
      "492/492 [==============================] - 3s 6ms/step - loss: 0.5575 - val_loss: 0.4760\n",
      "Epoch 3/100\n",
      "492/492 [==============================] - 3s 5ms/step - loss: 0.4148 - val_loss: 0.3497\n",
      "Epoch 4/100\n",
      "492/492 [==============================] - 3s 5ms/step - loss: 0.3166 - val_loss: 0.2715\n",
      "Epoch 5/100\n",
      "492/492 [==============================] - 2s 5ms/step - loss: 0.2512 - val_loss: 0.2140\n",
      "Epoch 6/100\n",
      "492/492 [==============================] - 3s 6ms/step - loss: 0.1993 - val_loss: 0.1688\n",
      "Epoch 7/100\n",
      "492/492 [==============================] - 3s 6ms/step - loss: 0.1591 - val_loss: 0.1359\n",
      "Epoch 8/100\n",
      "492/492 [==============================] - 3s 5ms/step - loss: 0.1314 - val_loss: 0.1150\n",
      "Epoch 9/100\n",
      "492/492 [==============================] - 3s 6ms/step - loss: 0.1146 - val_loss: 0.1030\n",
      "Epoch 10/100\n",
      "492/492 [==============================] - 2s 5ms/step - loss: 0.1049 - val_loss: 0.0958\n",
      "Epoch 11/100\n",
      "492/492 [==============================] - 3s 6ms/step - loss: 0.0990 - val_loss: 0.0908\n",
      "Epoch 12/100\n",
      "492/492 [==============================] - 3s 5ms/step - loss: 0.0956 - val_loss: 0.0888\n",
      "Epoch 13/100\n",
      "492/492 [==============================] - 4s 7ms/step - loss: 0.0934 - val_loss: 0.0872\n",
      "Epoch 14/100\n",
      "492/492 [==============================] - 3s 5ms/step - loss: 0.0923 - val_loss: 0.0865\n",
      "Epoch 15/100\n",
      "492/492 [==============================] - 3s 5ms/step - loss: 0.0913 - val_loss: 0.0857\n",
      "Epoch 16/100\n",
      "492/492 [==============================] - 2s 5ms/step - loss: 0.0908 - val_loss: 0.0854\n",
      "Epoch 17/100\n",
      "492/492 [==============================] - 2s 5ms/step - loss: 0.0904 - val_loss: 0.0851\n",
      "Epoch 18/100\n",
      "492/492 [==============================] - 3s 5ms/step - loss: 0.0901 - val_loss: 0.0854\n",
      "Epoch 19/100\n",
      "492/492 [==============================] - 3s 6ms/step - loss: 0.0898 - val_loss: 0.0872\n",
      "Epoch 20/100\n",
      "492/492 [==============================] - 2s 5ms/step - loss: 0.0898 - val_loss: 0.0844\n",
      "Epoch 21/100\n",
      "492/492 [==============================] - 2s 5ms/step - loss: 0.0897 - val_loss: 0.0846\n",
      "Epoch 22/100\n",
      "492/492 [==============================] - 3s 6ms/step - loss: 0.0896 - val_loss: 0.0845\n",
      "Epoch 23/100\n",
      "492/492 [==============================] - 3s 5ms/step - loss: 0.0893 - val_loss: 0.0839\n",
      "Epoch 24/100\n",
      "492/492 [==============================] - 3s 5ms/step - loss: 0.0895 - val_loss: 0.0838\n",
      "Epoch 25/100\n",
      "492/492 [==============================] - 4s 7ms/step - loss: 0.0893 - val_loss: 0.0841\n",
      "Epoch 26/100\n",
      "492/492 [==============================] - 4s 7ms/step - loss: 0.0892 - val_loss: 0.0847\n",
      "Epoch 27/100\n",
      "492/492 [==============================] - 3s 5ms/step - loss: 0.0892 - val_loss: 0.0840\n",
      "Epoch 28/100\n",
      "492/492 [==============================] - 4s 8ms/step - loss: 0.0891 - val_loss: 0.0840\n",
      "Epoch 29/100\n",
      "492/492 [==============================] - 3s 6ms/step - loss: 0.0891 - val_loss: 0.0835\n",
      "Epoch 30/100\n",
      "492/492 [==============================] - 2s 4ms/step - loss: 0.0890 - val_loss: 0.0842\n",
      "Epoch 31/100\n",
      "492/492 [==============================] - 3s 5ms/step - loss: 0.0889 - val_loss: 0.0836\n",
      "Epoch 32/100\n",
      "492/492 [==============================] - 3s 6ms/step - loss: 0.0889 - val_loss: 0.0835\n",
      "Epoch 33/100\n",
      "492/492 [==============================] - 3s 6ms/step - loss: 0.0889 - val_loss: 0.0850\n",
      "Epoch 34/100\n",
      "492/492 [==============================] - 2s 5ms/step - loss: 0.0888 - val_loss: 0.0833\n",
      "Epoch 35/100\n",
      "492/492 [==============================] - 3s 7ms/step - loss: 0.0888 - val_loss: 0.0844\n",
      "Epoch 36/100\n",
      "492/492 [==============================] - 3s 7ms/step - loss: 0.0888 - val_loss: 0.0846\n",
      "Epoch 37/100\n",
      "492/492 [==============================] - 3s 5ms/step - loss: 0.0887 - val_loss: 0.0836\n",
      "Epoch 38/100\n",
      "492/492 [==============================] - 2s 5ms/step - loss: 0.0888 - val_loss: 0.0837\n",
      "Epoch 39/100\n",
      "492/492 [==============================] - 3s 6ms/step - loss: 0.0887 - val_loss: 0.0833\n",
      "Epoch 40/100\n",
      "492/492 [==============================] - 2s 4ms/step - loss: 0.0887 - val_loss: 0.0831\n",
      "Epoch 41/100\n",
      "492/492 [==============================] - 2s 5ms/step - loss: 0.0887 - val_loss: 0.0830\n",
      "Epoch 42/100\n",
      "492/492 [==============================] - 3s 6ms/step - loss: 0.0886 - val_loss: 0.0834\n",
      "Epoch 43/100\n",
      "492/492 [==============================] - 3s 6ms/step - loss: 0.0885 - val_loss: 0.0836\n",
      "Epoch 44/100\n",
      "492/492 [==============================] - 3s 6ms/step - loss: 0.0885 - val_loss: 0.0838\n",
      "Epoch 45/100\n",
      "492/492 [==============================] - 4s 7ms/step - loss: 0.0885 - val_loss: 0.0829\n",
      "Epoch 46/100\n",
      "492/492 [==============================] - 3s 6ms/step - loss: 0.0885 - val_loss: 0.0841\n",
      "Epoch 47/100\n",
      "492/492 [==============================] - 2s 5ms/step - loss: 0.0884 - val_loss: 0.0834\n",
      "Epoch 48/100\n",
      "492/492 [==============================] - 3s 7ms/step - loss: 0.0884 - val_loss: 0.0831\n",
      "Epoch 49/100\n",
      "492/492 [==============================] - 3s 6ms/step - loss: 0.0884 - val_loss: 0.0834\n",
      "Epoch 50/100\n",
      "492/492 [==============================] - 3s 5ms/step - loss: 0.0883 - val_loss: 0.0826\n",
      "Epoch 51/100\n",
      "492/492 [==============================] - 3s 6ms/step - loss: 0.0882 - val_loss: 0.0856\n",
      "Epoch 52/100\n",
      "492/492 [==============================] - 3s 6ms/step - loss: 0.0882 - val_loss: 0.0851\n",
      "Epoch 53/100\n",
      "492/492 [==============================] - 4s 8ms/step - loss: 0.0884 - val_loss: 0.0829\n",
      "Epoch 54/100\n",
      "492/492 [==============================] - 4s 7ms/step - loss: 0.0883 - val_loss: 0.0826\n",
      "Epoch 55/100\n",
      "492/492 [==============================] - 3s 5ms/step - loss: 0.0882 - val_loss: 0.0829\n",
      "Epoch 56/100\n",
      "492/492 [==============================] - 2s 5ms/step - loss: 0.0882 - val_loss: 0.0823\n",
      "Epoch 57/100\n",
      "492/492 [==============================] - 2s 5ms/step - loss: 0.0881 - val_loss: 0.0842\n",
      "Epoch 58/100\n",
      "492/492 [==============================] - 3s 5ms/step - loss: 0.0882 - val_loss: 0.0822\n",
      "Epoch 59/100\n",
      "492/492 [==============================] - 3s 6ms/step - loss: 0.0882 - val_loss: 0.0823\n",
      "Epoch 60/100\n",
      "492/492 [==============================] - 2s 5ms/step - loss: 0.0879 - val_loss: 0.0823\n",
      "Epoch 61/100\n",
      "492/492 [==============================] - 3s 6ms/step - loss: 0.0881 - val_loss: 0.0820\n",
      "Epoch 62/100\n",
      "492/492 [==============================] - 3s 6ms/step - loss: 0.0881 - val_loss: 0.0825\n",
      "Epoch 63/100\n",
      "492/492 [==============================] - 2s 5ms/step - loss: 0.0881 - val_loss: 0.0835\n",
      "Epoch 64/100\n",
      "492/492 [==============================] - 3s 6ms/step - loss: 0.0880 - val_loss: 0.0830\n",
      "Epoch 65/100\n",
      "492/492 [==============================] - 3s 5ms/step - loss: 0.0880 - val_loss: 0.0828\n",
      "Epoch 66/100\n",
      "492/492 [==============================] - 2s 5ms/step - loss: 0.0879 - val_loss: 0.0820\n",
      "Epoch 67/100\n",
      "492/492 [==============================] - 4s 7ms/step - loss: 0.0879 - val_loss: 0.0819\n",
      "Epoch 68/100\n",
      "492/492 [==============================] - 3s 6ms/step - loss: 0.0878 - val_loss: 0.0820\n",
      "Epoch 69/100\n",
      "492/492 [==============================] - 3s 5ms/step - loss: 0.0878 - val_loss: 0.0819\n",
      "Epoch 70/100\n",
      "492/492 [==============================] - 3s 5ms/step - loss: 0.0878 - val_loss: 0.0817\n",
      "Epoch 71/100\n",
      "492/492 [==============================] - 3s 6ms/step - loss: 0.0876 - val_loss: 0.0821\n",
      "Epoch 72/100\n",
      "492/492 [==============================] - 2s 4ms/step - loss: 0.0877 - val_loss: 0.0822\n",
      "Epoch 73/100\n",
      "492/492 [==============================] - 1s 3ms/step - loss: 0.0877 - val_loss: 0.0834\n",
      "Epoch 74/100\n",
      "492/492 [==============================] - 2s 5ms/step - loss: 0.0876 - val_loss: 0.0816\n",
      "Epoch 75/100\n",
      "492/492 [==============================] - 2s 5ms/step - loss: 0.0877 - val_loss: 0.0816\n",
      "Epoch 76/100\n",
      "492/492 [==============================] - 2s 5ms/step - loss: 0.0877 - val_loss: 0.0823\n",
      "Epoch 77/100\n",
      "492/492 [==============================] - 3s 6ms/step - loss: 0.0876 - val_loss: 0.0817\n",
      "Epoch 78/100\n",
      "492/492 [==============================] - 3s 6ms/step - loss: 0.0876 - val_loss: 0.0815\n",
      "Epoch 79/100\n",
      "492/492 [==============================] - 3s 7ms/step - loss: 0.0876 - val_loss: 0.0820\n",
      "Epoch 80/100\n",
      "492/492 [==============================] - 3s 6ms/step - loss: 0.0876 - val_loss: 0.0814\n",
      "Epoch 81/100\n",
      "492/492 [==============================] - 3s 5ms/step - loss: 0.0876 - val_loss: 0.0815\n",
      "Epoch 82/100\n",
      "492/492 [==============================] - 3s 6ms/step - loss: 0.0876 - val_loss: 0.0817\n",
      "Epoch 83/100\n",
      "492/492 [==============================] - 3s 6ms/step - loss: 0.0874 - val_loss: 0.0822\n",
      "Epoch 84/100\n",
      "492/492 [==============================] - 3s 6ms/step - loss: 0.0875 - val_loss: 0.0813\n",
      "Epoch 85/100\n",
      "492/492 [==============================] - 3s 6ms/step - loss: 0.0875 - val_loss: 0.0815\n",
      "Epoch 86/100\n",
      "492/492 [==============================] - 4s 8ms/step - loss: 0.0875 - val_loss: 0.0815\n",
      "Epoch 87/100\n",
      "492/492 [==============================] - 3s 7ms/step - loss: 0.0875 - val_loss: 0.0816\n",
      "Epoch 88/100\n",
      "492/492 [==============================] - 3s 5ms/step - loss: 0.0874 - val_loss: 0.0812\n",
      "Epoch 89/100\n",
      "492/492 [==============================] - 3s 5ms/step - loss: 0.0873 - val_loss: 0.0843\n",
      "Epoch 90/100\n",
      "492/492 [==============================] - 4s 7ms/step - loss: 0.0873 - val_loss: 0.0811\n",
      "Epoch 91/100\n",
      "492/492 [==============================] - 3s 6ms/step - loss: 0.0873 - val_loss: 0.0816\n",
      "Epoch 92/100\n",
      "492/492 [==============================] - 2s 4ms/step - loss: 0.0872 - val_loss: 0.0810\n",
      "Epoch 93/100\n",
      "492/492 [==============================] - 3s 5ms/step - loss: 0.0873 - val_loss: 0.0811\n",
      "Epoch 94/100\n",
      "492/492 [==============================] - 3s 5ms/step - loss: 0.0872 - val_loss: 0.0809\n",
      "Epoch 95/100\n",
      "492/492 [==============================] - 3s 7ms/step - loss: 0.0873 - val_loss: 0.0809\n",
      "Epoch 96/100\n",
      "492/492 [==============================] - 4s 8ms/step - loss: 0.0873 - val_loss: 0.0810\n",
      "Epoch 97/100\n",
      "492/492 [==============================] - 3s 6ms/step - loss: 0.0872 - val_loss: 0.0812\n",
      "Epoch 98/100\n",
      "492/492 [==============================] - 2s 5ms/step - loss: 0.0873 - val_loss: 0.0809\n",
      "Epoch 99/100\n",
      "492/492 [==============================] - 3s 6ms/step - loss: 0.0872 - val_loss: 0.0817\n",
      "Epoch 100/100\n",
      "492/492 [==============================] - 3s 6ms/step - loss: 0.0872 - val_loss: 0.0811\n"
     ]
    }
   ],
   "source": [
    "history = model.fit(X_train, y_train, epochs=100, validation_split=0.15) "
   ]
  },
  {
   "cell_type": "code",
   "execution_count": 7,
   "metadata": {},
   "outputs": [
    {
     "name": "stderr",
     "output_type": "stream",
     "text": [
      "/home/simul6/anaconda3/envs/clint_ml/lib/python3.11/site-packages/seaborn/_oldcore.py:1119: FutureWarning: use_inf_as_na option is deprecated and will be removed in a future version. Convert inf values to NaN before operating instead.\n",
      "  with pd.option_context('mode.use_inf_as_na', True):\n",
      "/home/simul6/anaconda3/envs/clint_ml/lib/python3.11/site-packages/seaborn/_oldcore.py:1119: FutureWarning: use_inf_as_na option is deprecated and will be removed in a future version. Convert inf values to NaN before operating instead.\n",
      "  with pd.option_context('mode.use_inf_as_na', True):\n",
      "/home/simul6/anaconda3/envs/clint_ml/lib/python3.11/site-packages/seaborn/_oldcore.py:1119: FutureWarning: use_inf_as_na option is deprecated and will be removed in a future version. Convert inf values to NaN before operating instead.\n",
      "  with pd.option_context('mode.use_inf_as_na', True):\n",
      "/home/simul6/anaconda3/envs/clint_ml/lib/python3.11/site-packages/seaborn/_oldcore.py:1119: FutureWarning: use_inf_as_na option is deprecated and will be removed in a future version. Convert inf values to NaN before operating instead.\n",
      "  with pd.option_context('mode.use_inf_as_na', True):\n"
     ]
    },
    {
     "data": {
      "image/png": "[encoded data removed]",
      "text/plain": [
       "<Figure size 640x480 with 1 Axes>"
      ]
     },
     "metadata": {},
     "output_type": "display_data"
    }
   ],
   "source": [
    "history_curve = history.history\n",
    "history_curve[\"epoch\"] = list(range(len(history_curve[\"loss\"])))\n",
    "fig, ax = plt.subplots()\n",
    "sns.lineplot(history_curve, x=\"epoch\", y=\"loss\", ax=ax)\n",
    "sns.lineplot(history_curve, x=\"epoch\", y=\"val_loss\", ax=ax)\n",
    "plt.show()"
   ]
  },
  {
   "cell_type": "code",
   "execution_count": 10,
   "metadata": {},
   "outputs": [
    {
     "name": "stderr",
     "output_type": "stream",
     "text": [
      "/home/simul6/anaconda3/envs/clint_ml/lib/python3.11/site-packages/keras/src/engine/training.py:3103: UserWarning: You are saving your model as an HDF5 file via `model.save()`. This file format is considered legacy. We recommend using instead the native Keras format, e.g. `model.save('my_model.keras')`.\n",
      "  saving_api.save_model(\n"
     ]
    }
   ],
   "source": [
    "model.save(\"./models/conv1d_median.h5\")"
   ]
  },
  {
   "cell_type": "code",
   "execution_count": 9,
   "metadata": {},
   "outputs": [
    {
     "name": "stdout",
     "output_type": "stream",
     "text": [
      "579/579 [==============================] - 2s 3ms/step\n",
      "145/145 [==============================] - 0s 3ms/step\n"
     ]
    },
    {
     "data": {
      "text/plain": [
       "[Text(0.5, 1.0, 'Test')]"
      ]
     },
     "execution_count": 9,
     "metadata": {},
     "output_type": "execute_result"
    },
    {
     "data": {
      "image/png": "[encoded data removed]",
      "text/plain": [
       "<Figure size 1300x500 with 2 Axes>"
      ]
     },
     "metadata": {},
     "output_type": "display_data"
    }
   ],
   "source": [
    "pred_train = model.predict(X_train)\n",
    "y_train_disp = oh_enc.inverse_transform(y_train)\n",
    "pred_train_disp = oh_enc.inverse_transform(pred_train)\n",
    "\n",
    "pred_test = model.predict(X_test)\n",
    "y_test_disp = oh_enc.inverse_transform(y_test)\n",
    "pred_test_disp = oh_enc.inverse_transform(pred_test)\n",
    "\n",
    "fig, ax = plt.subplots(1, 2, figsize=(13, 5))\n",
    "ConfusionMatrixDisplay.from_predictions(y_train_disp, pred_train_disp, ax=ax[0], colorbar=False, cmap=\"bone\", display_labels=[\"hardcore\", \"lg\", \"poisson\"])\n",
    "ax[0].set(title=\"Train\")\n",
    "ConfusionMatrixDisplay.from_predictions(y_test_disp, pred_test_disp, ax=ax[1], colorbar=False, cmap=\"bone\", display_labels=[\"hardcore\", \"lg\", \"poisson\"])\n",
    "ax[1].set(title=\"Test\")"
   ]
  }
 ],
 "metadata": {
  "kernelspec": {
   "display_name": "clint_ml",
   "language": "python",
   "name": "python3"
  },
  "language_info": {
   "codemirror_mode": {
    "name": "ipython",
    "version": 3
   },
   "file_extension": ".py",
   "mimetype": "text/x-python",
   "name": "python",
   "nbconvert_exporter": "python",
   "pygments_lexer": "ipython3",
   "version": "3.11.5"
  }
 },
 "nbformat": 4,
 "nbformat_minor": 2
}
