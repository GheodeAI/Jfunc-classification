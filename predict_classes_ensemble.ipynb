{
 "cells": [
  {
   "cell_type": "code",
   "execution_count": 1,
   "metadata": {},
   "outputs": [
    {
     "name": "stderr",
     "output_type": "stream",
     "text": [
      "2024-10-15 16:00:06.902996: I tensorflow/core/platform/cpu_feature_guard.cc:193] This TensorFlow binary is optimized with oneAPI Deep Neural Network Library (oneDNN) to use the following CPU instructions in performance-critical operations:  SSE4.1 SSE4.2 AVX AVX2 AVX_VNNI FMA\n",
      "To enable them in other operations, rebuild TensorFlow with the appropriate compiler flags.\n",
      "2024-10-15 16:00:06.932015: I tensorflow/core/util/util.cc:169] oneDNN custom operations are on. You may see slightly different numerical results due to floating-point round-off errors from different computation orders. To turn them off, set the environment variable `TF_ENABLE_ONEDNN_OPTS=0`.\n"
     ]
    }
   ],
   "source": [
    "import numpy as np\n",
    "import xarray as xr\n",
    "import seaborn as sns\n",
    "import matplotlib.pyplot as plt\n",
    "import keras\n",
    "from sklearn.preprocessing import OneHotEncoder, MinMaxScaler, StandardScaler\n",
    "from sklearn.model_selection import train_test_split\n",
    "from sklearn.metrics import ConfusionMatrixDisplay\n",
    "from data import load_ensembles"
   ]
  },
  {
   "cell_type": "code",
   "execution_count": 2,
   "metadata": {},
   "outputs": [
    {
     "data": {
      "text/plain": [
       "array([[1., 0., 0.],\n",
       "       [1., 0., 0.],\n",
       "       [1., 0., 0.],\n",
       "       ...,\n",
       "       [0., 0., 1.],\n",
       "       [0., 0., 1.],\n",
       "       [0., 0., 1.]])"
      ]
     },
     "execution_count": 2,
     "metadata": {},
     "output_type": "execute_result"
    },
    {
     "data": {
      "image/png": "[encoded data removed]",
      "text/plain": [
       "<Figure size 640x480 with 1 Axes>"
      ]
     },
     "metadata": {},
     "output_type": "display_data"
    }
   ],
   "source": [
    "X, y_base = load_ensembles()\n",
    "oh_enc = OneHotEncoder(sparse_output=False)\n",
    "y = oh_enc.fit_transform(y_base)\n",
    "plt.plot(y_base)\n",
    "y"
   ]
  },
  {
   "cell_type": "code",
   "execution_count": 3,
   "metadata": {},
   "outputs": [
    {
     "name": "stdout",
     "output_type": "stream",
     "text": [
      "(18512, 180, 100)\n",
      "(4628, 180, 100)\n"
     ]
    }
   ],
   "source": [
    "X_train_base, X_test_base, y_train, y_test = train_test_split(X, y, test_size=0.2, shuffle=True, random_state=0)\n",
    "print(X_train_base.shape)\n",
    "print(X_test_base.shape)\n",
    "\n",
    "abs_max = np.abs(X_train_base - 1).max()\n",
    "\n",
    "X_train = (X_train_base - 1)/abs_max\n",
    "X_test = (X_test_base - 1)/abs_max\n",
    "\n",
    "# X_scaler = StandardScaler()\n",
    "# X_train = X_scaler.fit_transform(X_train_base.reshape((-1, 1))).reshape(X_train_base.shape)\n",
    "# X_test = X_scaler.transform(X_test_base.reshape((-1, 1))).reshape(X_test_base.shape)"
   ]
  },
  {
   "cell_type": "code",
   "execution_count": 11,
   "metadata": {},
   "outputs": [
    {
     "name": "stdout",
     "output_type": "stream",
     "text": [
      "Model: \"model_1\"\n",
      "_________________________________________________________________\n",
      " Layer (type)                Output Shape              Param #   \n",
      "=================================================================\n",
      " input_2 (InputLayer)        [(None, 180, 100)]        0         \n",
      "                                                                 \n",
      " conv1d_2 (Conv1D)           (None, 180, 128)          64128     \n",
      "                                                                 \n",
      " max_pooling1d_2 (MaxPooling  (None, 90, 128)          0         \n",
      " 1D)                                                             \n",
      "                                                                 \n",
      " conv1d_3 (Conv1D)           (None, 90, 64)            41024     \n",
      "                                                                 \n",
      " max_pooling1d_3 (MaxPooling  (None, 45, 64)           0         \n",
      " 1D)                                                             \n",
      "                                                                 \n",
      " flatten_1 (Flatten)         (None, 2880)              0         \n",
      "                                                                 \n",
      " dense_2 (Dense)             (None, 3)                 8643      \n",
      "                                                                 \n",
      "=================================================================\n",
      "Total params: 113,795\n",
      "Trainable params: 113,795\n",
      "Non-trainable params: 0\n",
      "_________________________________________________________________\n"
     ]
    }
   ],
   "source": [
    "x_input = keras.Input(X.shape[1:])\n",
    "x = x_input\n",
    "x = keras.layers.Conv1D(128, 5, padding=\"same\", activation='relu')(x)\n",
    "x = keras.layers.MaxPooling1D()(x)\n",
    "x = keras.layers.Conv1D(64, 5, padding=\"same\", activation='relu')(x)\n",
    "x = keras.layers.MaxPooling1D()(x)\n",
    "x = keras.layers.Flatten()(x)\n",
    "x = keras.layers.Dense(3, activation='softmax')(x)\n",
    "model = keras.Model(x_input, x)\n",
    "\n",
    "optimizer = keras.optimizers.RMSprop(5e-6)\n",
    "model.compile(optimizer=optimizer, loss=\"bce\")\n",
    "model.summary()"
   ]
  },
  {
   "cell_type": "code",
   "execution_count": 12,
   "metadata": {},
   "outputs": [
    {
     "name": "stdout",
     "output_type": "stream",
     "text": [
      "Epoch 1/100\n",
      " 56/492 [==>...........................] - ETA: 1s - loss: 0.6920"
     ]
    },
    {
     "name": "stderr",
     "output_type": "stream",
     "text": [
      "2024-09-23 20:25:58.390507: W tensorflow/core/common_runtime/bfc_allocator.cc:290] Allocator (GPU_0_bfc) ran out of memory trying to allocate 6.32GiB with freed_by_count=0. The caller indicates that this is not a failure, but this may mean that there could be performance gains if more memory were available.\n"
     ]
    },
    {
     "name": "stdout",
     "output_type": "stream",
     "text": [
      "492/492 [==============================] - ETA: 0s - loss: 0.6847"
     ]
    },
    {
     "name": "stderr",
     "output_type": "stream",
     "text": [
      "2024-09-23 20:26:00.487736: W tensorflow/core/common_runtime/bfc_allocator.cc:290] Allocator (GPU_0_bfc) ran out of memory trying to allocate 6.32GiB with freed_by_count=0. The caller indicates that this is not a failure, but this may mean that there could be performance gains if more memory were available.\n"
     ]
    },
    {
     "name": "stdout",
     "output_type": "stream",
     "text": [
      "492/492 [==============================] - 3s 5ms/step - loss: 0.6847 - val_loss: 0.6730\n",
      "Epoch 2/100\n",
      "492/492 [==============================] - 2s 4ms/step - loss: 0.6538 - val_loss: 0.6264\n",
      "Epoch 3/100\n",
      "492/492 [==============================] - 2s 5ms/step - loss: 0.5942 - val_loss: 0.5513\n",
      "Epoch 4/100\n",
      "492/492 [==============================] - 2s 4ms/step - loss: 0.5148 - val_loss: 0.4661\n",
      "Epoch 5/100\n",
      "492/492 [==============================] - 2s 5ms/step - loss: 0.4336 - val_loss: 0.3869\n",
      "Epoch 6/100\n",
      "492/492 [==============================] - 2s 4ms/step - loss: 0.3616 - val_loss: 0.3201\n",
      "Epoch 7/100\n",
      "492/492 [==============================] - 2s 4ms/step - loss: 0.3004 - val_loss: 0.2642\n",
      "Epoch 8/100\n",
      "492/492 [==============================] - 2s 4ms/step - loss: 0.2495 - val_loss: 0.2181\n",
      "Epoch 9/100\n",
      "492/492 [==============================] - 2s 5ms/step - loss: 0.2072 - val_loss: 0.1806\n",
      "Epoch 10/100\n",
      "492/492 [==============================] - 2s 4ms/step - loss: 0.1733 - val_loss: 0.1517\n",
      "Epoch 11/100\n",
      "492/492 [==============================] - 2s 4ms/step - loss: 0.1475 - val_loss: 0.1301\n",
      "Epoch 12/100\n",
      "492/492 [==============================] - 2s 5ms/step - loss: 0.1285 - val_loss: 0.1143\n",
      "Epoch 13/100\n",
      "492/492 [==============================] - 2s 5ms/step - loss: 0.1153 - val_loss: 0.1040\n",
      "Epoch 14/100\n",
      "492/492 [==============================] - 2s 4ms/step - loss: 0.1065 - val_loss: 0.0972\n",
      "Epoch 15/100\n",
      "492/492 [==============================] - 2s 4ms/step - loss: 0.1008 - val_loss: 0.0929\n",
      "Epoch 16/100\n",
      "492/492 [==============================] - 2s 4ms/step - loss: 0.0972 - val_loss: 0.0903\n",
      "Epoch 17/100\n",
      "492/492 [==============================] - 2s 5ms/step - loss: 0.0948 - val_loss: 0.0885\n",
      "Epoch 18/100\n",
      "492/492 [==============================] - 2s 5ms/step - loss: 0.0933 - val_loss: 0.0874\n",
      "Epoch 19/100\n",
      "492/492 [==============================] - 2s 5ms/step - loss: 0.0923 - val_loss: 0.0865\n",
      "Epoch 20/100\n",
      "492/492 [==============================] - 2s 4ms/step - loss: 0.0916 - val_loss: 0.0860\n",
      "Epoch 21/100\n",
      "492/492 [==============================] - 2s 5ms/step - loss: 0.0911 - val_loss: 0.0856\n",
      "Epoch 22/100\n",
      "492/492 [==============================] - 2s 4ms/step - loss: 0.0907 - val_loss: 0.0853\n",
      "Epoch 23/100\n",
      "492/492 [==============================] - 2s 5ms/step - loss: 0.0905 - val_loss: 0.0851\n",
      "Epoch 24/100\n",
      "492/492 [==============================] - 2s 4ms/step - loss: 0.0902 - val_loss: 0.0851\n",
      "Epoch 25/100\n",
      "492/492 [==============================] - 2s 5ms/step - loss: 0.0901 - val_loss: 0.0848\n",
      "Epoch 26/100\n",
      "492/492 [==============================] - 2s 4ms/step - loss: 0.0899 - val_loss: 0.0846\n",
      "Epoch 27/100\n",
      "492/492 [==============================] - 2s 4ms/step - loss: 0.0899 - val_loss: 0.0846\n",
      "Epoch 28/100\n",
      "492/492 [==============================] - 2s 4ms/step - loss: 0.0898 - val_loss: 0.0845\n",
      "Epoch 29/100\n",
      "492/492 [==============================] - 2s 4ms/step - loss: 0.0897 - val_loss: 0.0843\n",
      "Epoch 30/100\n",
      "492/492 [==============================] - 2s 5ms/step - loss: 0.0896 - val_loss: 0.0843\n",
      "Epoch 31/100\n",
      "492/492 [==============================] - 2s 5ms/step - loss: 0.0895 - val_loss: 0.0842\n",
      "Epoch 32/100\n",
      "492/492 [==============================] - 2s 5ms/step - loss: 0.0895 - val_loss: 0.0842\n",
      "Epoch 33/100\n",
      "492/492 [==============================] - 2s 4ms/step - loss: 0.0894 - val_loss: 0.0841\n",
      "Epoch 34/100\n",
      "492/492 [==============================] - 2s 5ms/step - loss: 0.0894 - val_loss: 0.0840\n",
      "Epoch 35/100\n",
      "492/492 [==============================] - 2s 4ms/step - loss: 0.0893 - val_loss: 0.0839\n",
      "Epoch 36/100\n",
      "492/492 [==============================] - 2s 5ms/step - loss: 0.0893 - val_loss: 0.0839\n",
      "Epoch 37/100\n",
      "492/492 [==============================] - 2s 4ms/step - loss: 0.0892 - val_loss: 0.0841\n",
      "Epoch 38/100\n",
      "492/492 [==============================] - 2s 4ms/step - loss: 0.0892 - val_loss: 0.0840\n",
      "Epoch 39/100\n",
      "492/492 [==============================] - 2s 4ms/step - loss: 0.0892 - val_loss: 0.0839\n",
      "Epoch 40/100\n",
      "492/492 [==============================] - 2s 4ms/step - loss: 0.0891 - val_loss: 0.0839\n",
      "Epoch 41/100\n",
      "492/492 [==============================] - 2s 4ms/step - loss: 0.0891 - val_loss: 0.0840\n",
      "Epoch 42/100\n",
      "492/492 [==============================] - 2s 5ms/step - loss: 0.0891 - val_loss: 0.0836\n",
      "Epoch 43/100\n",
      "492/492 [==============================] - 2s 5ms/step - loss: 0.0891 - val_loss: 0.0837\n",
      "Epoch 44/100\n",
      "492/492 [==============================] - 2s 4ms/step - loss: 0.0890 - val_loss: 0.0837\n",
      "Epoch 45/100\n",
      "492/492 [==============================] - 2s 5ms/step - loss: 0.0889 - val_loss: 0.0837\n",
      "Epoch 46/100\n",
      "492/492 [==============================] - 2s 5ms/step - loss: 0.0889 - val_loss: 0.0836\n",
      "Epoch 47/100\n",
      "492/492 [==============================] - 2s 4ms/step - loss: 0.0889 - val_loss: 0.0835\n",
      "Epoch 48/100\n",
      "492/492 [==============================] - 2s 5ms/step - loss: 0.0889 - val_loss: 0.0835\n",
      "Epoch 49/100\n",
      "492/492 [==============================] - 2s 5ms/step - loss: 0.0889 - val_loss: 0.0836\n",
      "Epoch 50/100\n",
      "492/492 [==============================] - 2s 5ms/step - loss: 0.0888 - val_loss: 0.0833\n",
      "Epoch 51/100\n",
      "492/492 [==============================] - 2s 4ms/step - loss: 0.0888 - val_loss: 0.0834\n",
      "Epoch 52/100\n",
      "492/492 [==============================] - 2s 4ms/step - loss: 0.0888 - val_loss: 0.0833\n",
      "Epoch 53/100\n",
      "492/492 [==============================] - 2s 4ms/step - loss: 0.0888 - val_loss: 0.0833\n",
      "Epoch 54/100\n",
      "492/492 [==============================] - 2s 4ms/step - loss: 0.0887 - val_loss: 0.0835\n",
      "Epoch 55/100\n",
      "492/492 [==============================] - 2s 5ms/step - loss: 0.0887 - val_loss: 0.0832\n",
      "Epoch 56/100\n",
      "492/492 [==============================] - 2s 5ms/step - loss: 0.0887 - val_loss: 0.0835\n",
      "Epoch 57/100\n",
      "492/492 [==============================] - 2s 5ms/step - loss: 0.0886 - val_loss: 0.0831\n",
      "Epoch 58/100\n",
      "492/492 [==============================] - 2s 4ms/step - loss: 0.0887 - val_loss: 0.0832\n",
      "Epoch 59/100\n",
      "492/492 [==============================] - 2s 5ms/step - loss: 0.0886 - val_loss: 0.0832\n",
      "Epoch 60/100\n",
      "492/492 [==============================] - 2s 5ms/step - loss: 0.0886 - val_loss: 0.0833\n",
      "Epoch 61/100\n",
      "492/492 [==============================] - 2s 4ms/step - loss: 0.0886 - val_loss: 0.0830\n",
      "Epoch 62/100\n",
      "492/492 [==============================] - 2s 4ms/step - loss: 0.0886 - val_loss: 0.0831\n",
      "Epoch 63/100\n",
      "492/492 [==============================] - 2s 4ms/step - loss: 0.0885 - val_loss: 0.0834\n",
      "Epoch 64/100\n",
      "492/492 [==============================] - 2s 4ms/step - loss: 0.0885 - val_loss: 0.0834\n",
      "Epoch 65/100\n",
      "492/492 [==============================] - 2s 5ms/step - loss: 0.0885 - val_loss: 0.0833\n",
      "Epoch 66/100\n",
      "492/492 [==============================] - 2s 5ms/step - loss: 0.0885 - val_loss: 0.0833\n",
      "Epoch 67/100\n",
      "492/492 [==============================] - 2s 4ms/step - loss: 0.0885 - val_loss: 0.0831\n",
      "Epoch 68/100\n",
      "492/492 [==============================] - 2s 5ms/step - loss: 0.0884 - val_loss: 0.0828\n",
      "Epoch 69/100\n",
      "492/492 [==============================] - 2s 4ms/step - loss: 0.0884 - val_loss: 0.0828\n",
      "Epoch 70/100\n",
      "492/492 [==============================] - 2s 5ms/step - loss: 0.0884 - val_loss: 0.0829\n",
      "Epoch 71/100\n",
      "492/492 [==============================] - 2s 5ms/step - loss: 0.0884 - val_loss: 0.0827\n",
      "Epoch 72/100\n",
      "492/492 [==============================] - 2s 5ms/step - loss: 0.0883 - val_loss: 0.0826\n",
      "Epoch 73/100\n",
      "492/492 [==============================] - 2s 5ms/step - loss: 0.0883 - val_loss: 0.0827\n",
      "Epoch 74/100\n",
      "492/492 [==============================] - 2s 5ms/step - loss: 0.0883 - val_loss: 0.0826\n",
      "Epoch 75/100\n",
      "492/492 [==============================] - 2s 5ms/step - loss: 0.0883 - val_loss: 0.0826\n",
      "Epoch 76/100\n",
      "492/492 [==============================] - 2s 3ms/step - loss: 0.0883 - val_loss: 0.0827\n",
      "Epoch 77/100\n",
      "492/492 [==============================] - 2s 5ms/step - loss: 0.0883 - val_loss: 0.0827\n",
      "Epoch 78/100\n",
      "492/492 [==============================] - 2s 5ms/step - loss: 0.0883 - val_loss: 0.0826\n",
      "Epoch 79/100\n",
      "492/492 [==============================] - 2s 5ms/step - loss: 0.0882 - val_loss: 0.0826\n",
      "Epoch 80/100\n",
      "492/492 [==============================] - 2s 4ms/step - loss: 0.0882 - val_loss: 0.0825\n",
      "Epoch 81/100\n",
      "492/492 [==============================] - 2s 5ms/step - loss: 0.0882 - val_loss: 0.0827\n",
      "Epoch 82/100\n",
      "492/492 [==============================] - 2s 5ms/step - loss: 0.0882 - val_loss: 0.0824\n",
      "Epoch 83/100\n",
      "492/492 [==============================] - 2s 4ms/step - loss: 0.0882 - val_loss: 0.0824\n",
      "Epoch 84/100\n",
      "492/492 [==============================] - 2s 5ms/step - loss: 0.0881 - val_loss: 0.0824\n",
      "Epoch 85/100\n",
      "492/492 [==============================] - 2s 5ms/step - loss: 0.0881 - val_loss: 0.0825\n",
      "Epoch 86/100\n",
      "492/492 [==============================] - 2s 4ms/step - loss: 0.0881 - val_loss: 0.0825\n",
      "Epoch 87/100\n",
      "492/492 [==============================] - 2s 4ms/step - loss: 0.0881 - val_loss: 0.0823\n",
      "Epoch 88/100\n",
      "492/492 [==============================] - 2s 4ms/step - loss: 0.0881 - val_loss: 0.0824\n",
      "Epoch 89/100\n",
      "492/492 [==============================] - 2s 5ms/step - loss: 0.0880 - val_loss: 0.0821\n",
      "Epoch 90/100\n",
      "492/492 [==============================] - 2s 4ms/step - loss: 0.0880 - val_loss: 0.0823\n",
      "Epoch 91/100\n",
      "492/492 [==============================] - 2s 4ms/step - loss: 0.0880 - val_loss: 0.0824\n",
      "Epoch 92/100\n",
      "492/492 [==============================] - 2s 5ms/step - loss: 0.0880 - val_loss: 0.0822\n",
      "Epoch 93/100\n",
      "492/492 [==============================] - 2s 4ms/step - loss: 0.0880 - val_loss: 0.0824\n",
      "Epoch 94/100\n",
      "492/492 [==============================] - 2s 4ms/step - loss: 0.0879 - val_loss: 0.0823\n",
      "Epoch 95/100\n",
      "492/492 [==============================] - 2s 5ms/step - loss: 0.0880 - val_loss: 0.0823\n",
      "Epoch 96/100\n",
      "492/492 [==============================] - 2s 4ms/step - loss: 0.0879 - val_loss: 0.0824\n",
      "Epoch 97/100\n",
      "492/492 [==============================] - 2s 4ms/step - loss: 0.0879 - val_loss: 0.0821\n",
      "Epoch 98/100\n",
      "492/492 [==============================] - 2s 5ms/step - loss: 0.0879 - val_loss: 0.0821\n",
      "Epoch 99/100\n",
      "492/492 [==============================] - 2s 5ms/step - loss: 0.0879 - val_loss: 0.0819\n",
      "Epoch 100/100\n",
      "492/492 [==============================] - 2s 5ms/step - loss: 0.0879 - val_loss: 0.0823\n"
     ]
    }
   ],
   "source": [
    "history = model.fit(X_train, y_train, epochs=100, validation_split=0.15)"
   ]
  },
  {
   "cell_type": "code",
   "execution_count": 13,
   "metadata": {},
   "outputs": [
    {
     "data": {
      "image/png": "[encoded data removed]",
      "text/plain": [
       "<Figure size 640x480 with 1 Axes>"
      ]
     },
     "metadata": {},
     "output_type": "display_data"
    }
   ],
   "source": [
    "history_curve = history.history\n",
    "history_curve[\"epoch\"] = list(range(len(history_curve[\"loss\"])))\n",
    "fig, ax = plt.subplots()\n",
    "sns.lineplot(history_curve, x=\"epoch\", y=\"loss\", ax=ax)\n",
    "sns.lineplot(history_curve, x=\"epoch\", y=\"val_loss\", ax=ax)\n",
    "plt.show()"
   ]
  },
  {
   "cell_type": "code",
   "execution_count": 14,
   "metadata": {},
   "outputs": [
    {
     "name": "stdout",
     "output_type": "stream",
     "text": [
      "579/579 [==============================] - 1s 2ms/step\n",
      "145/145 [==============================] - 0s 1ms/step\n"
     ]
    },
    {
     "data": {
      "text/plain": [
       "[Text(0.5, 1.0, 'Test')]"
      ]
     },
     "execution_count": 14,
     "metadata": {},
     "output_type": "execute_result"
    },
    {
     "data": {
      "image/png": "[encoded data removed]",
      "text/plain": [
       "<Figure size 1300x500 with 2 Axes>"
      ]
     },
     "metadata": {},
     "output_type": "display_data"
    }
   ],
   "source": [
    "pred_train = model.predict(X_train)\n",
    "y_train_disp = oh_enc.inverse_transform(y_train)\n",
    "pred_train_disp = oh_enc.inverse_transform(pred_train)\n",
    "\n",
    "pred_test = model.predict(X_test)\n",
    "y_test_disp = oh_enc.inverse_transform(y_test)\n",
    "pred_test_disp = oh_enc.inverse_transform(pred_test)\n",
    "\n",
    "fig, ax = plt.subplots(1, 2, figsize=(13, 5))\n",
    "ConfusionMatrixDisplay.from_predictions(y_train_disp, pred_train_disp, ax=ax[0], colorbar=False, cmap=\"bone\", display_labels=[\"hardcore\", \"lg\", \"poisson\"])\n",
    "ax[0].set(title=\"Train\")\n",
    "ConfusionMatrixDisplay.from_predictions(y_test_disp, pred_test_disp, ax=ax[1], colorbar=False, cmap=\"bone\", display_labels=[\"hardcore\", \"lg\", \"poisson\"])\n",
    "ax[1].set(title=\"Test\")"
   ]
  },
  {
   "cell_type": "code",
   "execution_count": null,
   "metadata": {},
   "outputs": [],
   "source": []
  },
  {
   "cell_type": "code",
   "execution_count": null,
   "metadata": {},
   "outputs": [],
   "source": []
  },
  {
   "cell_type": "code",
   "execution_count": null,
   "metadata": {},
   "outputs": [],
   "source": []
  }
 ],
 "metadata": {
  "kernelspec": {
   "display_name": "cmip6",
   "language": "python",
   "name": "python3"
  },
  "language_info": {
   "codemirror_mode": {
    "name": "ipython",
    "version": 3
   },
   "file_extension": ".py",
   "mimetype": "text/x-python",
   "name": "python",
   "nbconvert_exporter": "python",
   "pygments_lexer": "ipython3",
   "version": "3.10.9"
  }
 },
 "nbformat": 4,
 "nbformat_minor": 2
}
